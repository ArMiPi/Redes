{
  "nbformat": 4,
  "nbformat_minor": 0,
  "metadata": {
    "colab": {
      "provenance": [],
      "collapsed_sections": [
        "zrcLxhBV9WGv",
        "UTFcKuAeAsUZ",
        "kLiFzN9ICALx",
        "GO9TfQhXGvBE"
      ],
      "toc_visible": true
    },
    "kernelspec": {
      "name": "python3",
      "display_name": "Python 3"
    },
    "language_info": {
      "name": "python"
    }
  },
  "cells": [
    {
      "cell_type": "markdown",
      "source": [
        "# Perguntas\n",
        "\n",
        "1. O que é Socket?\n",
        "\n",
        "2. Para que serve a API do Socket?\n",
        "\n",
        "3. Descreva suas funções principais.\n",
        "\n",
        "4. Quais os protocolos suportados?\n",
        "\n",
        "5. Apresentar exemplos das funções oferecidas pela API do socket para conexão entre dois computadores utilizando os protocolos TCP e UDP.\n",
        "\n",
        "6. Apresente um resumo das principais diferenças entre o protocolo TCP e o UDP para transferência de informações na rede."
      ],
      "metadata": {
        "id": "ynmVNj_W8ghp"
      }
    },
    {
      "cell_type": "markdown",
      "source": [
        "# 1. O que é Socket?"
      ],
      "metadata": {
        "id": "zrcLxhBV9WGv"
      }
    },
    {
      "cell_type": "markdown",
      "source": [
        "Socket é uma interface que permite a comunicação entre dois processos (programas) diferentes na mesma máquina ou em máquinas diferentes."
      ],
      "metadata": {
        "id": "8AjgHW4h9ZPH"
      }
    },
    {
      "cell_type": "markdown",
      "source": [
        "# 2. Para que serve a API do Socket?"
      ],
      "metadata": {
        "id": "UTFcKuAeAsUZ"
      }
    },
    {
      "cell_type": "markdown",
      "source": [
        "É uma biblioteca que fornece classes e funções para criar, configurar e gerenciar Sockets. Ela permite o desenvolvimento de aplicativos de rede que se comuniquem por meio de protocolos como TCP, UDP e outros. A API Socket do Python oferece uma maneira conveniente e consistente de mapear diretamente às chamadas do sistema."
      ],
      "metadata": {
        "id": "_YSF8HlwAxCt"
      }
    },
    {
      "cell_type": "markdown",
      "source": [
        "# 3. Descreva suas funções principais."
      ],
      "metadata": {
        "id": "kLiFzN9ICALx"
      }
    },
    {
      "cell_type": "markdown",
      "source": [
        "- socket: Construtor da classe Socket, com determinadas características. Em geral, as características são relacionadas a família do protocolo que estamos usando (exemplos: AF_INET — para endereços de rede IPv4, AF_BLUETOOTH — comunicação via Bluetooth, AF_IPX — comunicação via rede Novel IPX) e a forma com que o socket irá tratar a entrega de dados (SOCKET_STREAM — protocolo TCP na camada de transporte, SOCK_DGRAM — protocolo UDP na camada de transporte).\n",
        "\n",
        "- bind: Realiza a associação entre a estrutura socket e o endereço/porta do servidor. O formato do endereço depende da família do endereço, informada no construtor.\n",
        "\n",
        "- listen: Coloca o socket em operação, neste caso, o servidor entra no estado de aguardar por alguma solicitação de clientes que desejam se comunicar. O método listen geralmente recebe um número como parâmetro, indicando a quantidade de conexões que serão enfileiradas antes que o sistema recuse novas conexões.\n",
        "\n",
        "- accept: Esse comando aceita conexões de clientes, retornando uma tupla da conexão realizada. Neste caso a tupla contém os valores (conn, address), sendo conn um novo objeto socket usado para enviar e receber dados na conexão, e address é o endereço vinculado ao socket no outro lado da conexão.\n",
        "\n",
        "- connect: Realiza a conexão com um socket remoto no endereço informado.\n",
        "\n",
        "- connect_ex: Igual à connect, mas retorna um indicador de erro, ao invés de gerar uma exceção, caso não seja possível estabelecer a conexão.\n",
        "\n",
        "- recv: Comando utilizado para receber dados do Socket.\n",
        "\n",
        "- send: Comando utilizado para enviar dados ao Socket.\n",
        "\n",
        "- close: Esse comando encerra uma dada conexão entre o cliente e o servidor."
      ],
      "metadata": {
        "id": "bWXGsd_lCBzG"
      }
    },
    {
      "cell_type": "markdown",
      "source": [
        "# 4. Quais os protocolos suportados?"
      ],
      "metadata": {
        "id": "GO9TfQhXGvBE"
      }
    },
    {
      "cell_type": "markdown",
      "source": [
        "Os principais protocolos suportados pela API Socket do Python incluem:\n",
        "\n",
        "- TCP (Transmission Control Protocol): TCP é um protocolo de transporte confiável e orientado a conexão. Ele garante a entrega ordenada e sem perda de dados entre os sistemas conectados.\n",
        "\n",
        "- UDP (User Datagram Protocol): UDP é um protocolo de transporte não confiável e sem conexão. Ele é mais rápido que o TCP, mas não garante a entrega ou a ordem dos dados.\n",
        "\n",
        "- ICMP (Internet Control Message Protocol): ICMP é um protocolo utilizado para relatar informações de controle e erro na rede, como mensagens de erro, testes de ping e informações sobre a disponibilidade da rede.\n",
        "\n",
        "- RAW Sockets: Os RAW Sockets permitem que acessar níveis mais baixos da pilha de protocolos e enviar e receber pacotes em formatos personalizados. Eles são usados para implementar funcionalidades de rede mais avançadas, como ferramentas de diagnóstico de rede.\n",
        "\n",
        "Outros Protocolos Personalizados: Além dos protocolos mencionados acima, é possível usar a API Socket para implementar e trabalhar com protocolos personalizados, definindo como os dados são estruturados e trocados entre os sistemas."
      ],
      "metadata": {
        "id": "MvtHPFylGxM4"
      }
    },
    {
      "cell_type": "markdown",
      "source": [
        "# 5. Apresentar exemplos das funções oferecidas pela API do socket para conexão entre dois computadores utilizando os protocolos TCP e UDP."
      ],
      "metadata": {
        "id": "ZU1Jb6AeIo24"
      }
    },
    {
      "cell_type": "code",
      "source": [
        "# Servidor TCP\n",
        "import socket\n",
        "\n",
        "# Cria um socket TCP\n",
        "server_socket = socket.socket(socket.AF_INET, socket.SOCK_STREAM)\n",
        "\n",
        "# Associa o socket a um endereço e porta\n",
        "server_address = ('localhost', 12345)\n",
        "server_socket.bind(server_address)\n",
        "\n",
        "# Coloca o socket no modo de escuta\n",
        "server_socket.listen(1)\n",
        "\n",
        "print(\"Aguardando conexões...\")\n",
        "\n",
        "# Aceita uma conexão\n",
        "client_socket, client_address = server_socket.accept()\n",
        "print(f\"Conexão estabelecida com {client_address}\")\n",
        "\n",
        "# Recebe dados do cliente\n",
        "data = client_socket.recv(1024)\n",
        "print(f\"Dados recebidos: {data.decode()}\")\n",
        "\n",
        "# Fecha os sockets\n",
        "client_socket.close()\n",
        "server_socket.close()\n"
      ],
      "metadata": {
        "id": "qqWaCbTSIqkB"
      },
      "execution_count": null,
      "outputs": []
    },
    {
      "cell_type": "code",
      "source": [
        "# Cliente TCP\n",
        "import socket\n",
        "\n",
        "# Cria um socket TCP\n",
        "client_socket = socket.socket(socket.AF_INET, socket.SOCK_STREAM)\n",
        "\n",
        "# Endereço e porta do servidor\n",
        "server_address = ('localhost', 12345)\n",
        "\n",
        "# Conecta ao servidor\n",
        "client_socket.connect(server_address)\n",
        "\n",
        "# Envia dados ao servidor\n",
        "message = \"Olá, servidor!\"\n",
        "client_socket.sendall(message.encode())\n",
        "\n",
        "# Fecha o socket\n",
        "client_socket.close()\n"
      ],
      "metadata": {
        "id": "NYFLpGjAJ-3e"
      },
      "execution_count": null,
      "outputs": []
    },
    {
      "cell_type": "code",
      "source": [
        "# Servidor UDP\n",
        "import socket\n",
        "\n",
        "# Cria um socket UDP\n",
        "server_socket = socket.socket(socket.AF_INET, socket.SOCK_DGRAM)\n",
        "\n",
        "# Associa o socket a um endereço e porta\n",
        "server_address = ('localhost', 12345)\n",
        "server_socket.bind(server_address)\n",
        "\n",
        "print(\"Aguardando datagramas...\")\n",
        "\n",
        "# Recebe dados\n",
        "data, client_address = server_socket.recvfrom(1024)\n",
        "print(f\"Datagrama recebido de {client_address}: {data.decode()}\")\n",
        "\n",
        "# Fecha o socket\n",
        "server_socket.close()"
      ],
      "metadata": {
        "id": "0qaIM7tyKVnk"
      },
      "execution_count": null,
      "outputs": []
    },
    {
      "cell_type": "code",
      "source": [
        "# Cliente UDP\n",
        "import socket\n",
        "\n",
        "# Cria um socket UDP\n",
        "client_socket = socket.socket(socket.AF_INET, socket.SOCK_DGRAM)\n",
        "\n",
        "# Endereço e porta do servidor\n",
        "server_address = ('localhost', 12345)\n",
        "\n",
        "# Envia dados\n",
        "message = \"Olá, servidor!\"\n",
        "client_socket.sendto(message.encode(), server_address)\n",
        "\n",
        "# Fecha o socket\n",
        "client_socket.close()\n"
      ],
      "metadata": {
        "id": "c1JK2KMtKbh7"
      },
      "execution_count": null,
      "outputs": []
    },
    {
      "cell_type": "markdown",
      "source": [
        "# 6. Apresente um resumo das principais diferenças entre o protocolo TCP e o UDP para transferência de informações na rede."
      ],
      "metadata": {
        "id": "5it9uw17KjAK"
      }
    },
    {
      "cell_type": "markdown",
      "source": [
        "- Confiabilidade:\n",
        "\n",
        "  TCP: É um protocolo orientado a conexão e confiável. Ele garante a entrega ordenada e sem perda de dados, retransmitindo automaticamente pacotes perdidos ou corrompidos.\n",
        "\n",
        "  UDP: É um protocolo não confiável. Ele não garante a entrega de pacotes nem a ordem deles. Isso significa que os pacotes podem ser perdidos, duplicados ou chegar fora de ordem.\n",
        "\n",
        "- Latência e Velocidade:\n",
        "\n",
        "  TCP: Devido ao seu mecanismo de confiabilidade e controle, o TCP tem uma latência maior em comparação com o UDP. A verificação de erros, retransmissões e controle de congestionamento podem aumentar o tempo necessário para entregar os dados.\n",
        "\n",
        "  UDP: Como não há controle de retransmissões ou confirmações, o UDP é mais rápido e tem menor latência.\n",
        "\n",
        "- Tamanho dos Pacotes:\n",
        "\n",
        "  TCP: Os dados são divididos em segmentos de tamanho variável. O tamanho é adaptado com base na rede e na carga.\n",
        "\n",
        "  UDP: Os dados são divididos em segentos de tamanho fixo. O tamanho é definido pelo aplicativo.\n",
        "\n",
        "- Aplicativos Típicos:\n",
        "\n",
        "  TCP: É mais adequado para aplicativos que exigem confiabilidade e integridade de dados, como transferência de arquivos, e-mails e navegação na web.\n",
        "  \n",
        "  UDP: É usado em aplicativos que priorizam velocidade e eficiência, como streaming de vídeo, áudio, jogos online e VoIP (Voice over IP).\n",
        "\n",
        "- Overhead:\n",
        "\n",
        "  TCP: Possui maior overhead devido aos mecanismos de controle e confiabilidade, o que pode resultar em maior uso de recursos e maior consumo de largura de banda.\n",
        "\n",
        "  UDP: Tem um overhead menor, já que não possui os mesmos mecanismos de controle."
      ],
      "metadata": {
        "id": "Ct1_CjuxKvmZ"
      }
    }
  ]
}